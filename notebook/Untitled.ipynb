{
 "cells": [
  {
   "cell_type": "code",
   "execution_count": 29,
   "metadata": {},
   "outputs": [],
   "source": [
    "import pandas as pd\n",
    "import sys\n",
    "sys.path.append('../src/')\n",
    "%matplotlib inline\n",
    "import numpy as np\n",
    "from data.data_loader import load_data , spilit_refit_test\n",
    "from utils.visual_functions import *\n",
    "from data.load_data import *\n",
    "fig_path = \"../figures/\""
   ]
  },
  {
   "cell_type": "code",
   "execution_count": 67,
   "metadata": {},
   "outputs": [
    {
     "name": "stdout",
     "output_type": "stream",
     "text": [
      "Load training data\n"
     ]
    }
   ],
   "source": [
    "x, y, z= load_data(\"../data/\", data_type=\"training\", data=\"ukdale\", denoise=True)"
   ]
  },
  {
   "cell_type": "code",
   "execution_count": 68,
   "metadata": {},
   "outputs": [],
   "source": [
    "p = np.load(\"../data/ukdale/training/powers.npy\")"
   ]
  },
  {
   "cell_type": "code",
   "execution_count": 69,
   "metadata": {},
   "outputs": [],
   "source": [
    "appliance_labels={'kettle':\"KT\", 'fridge':\"FRZ\", 'dishwasher':\"DW\", 'washingmachine':\"WM\", 'microwave':\"MW\"}"
   ]
  },
  {
   "cell_type": "code",
   "execution_count": 70,
   "metadata": {},
   "outputs": [],
   "source": [
    "train, validation, test = spilit_refit_test(z)"
   ]
  },
  {
   "cell_type": "code",
   "execution_count": 71,
   "metadata": {},
   "outputs": [
    {
     "data": {
      "image/png": "[encoded data removed]",
      "text/plain": [
       "<Figure size 432x288 with 5 Axes>"
      ]
     },
     "metadata": {
      "needs_background": "light"
     },
     "output_type": "display_data"
    }
   ],
   "source": [
    "fig = plt.figure(figsize=(6, 4))\n",
    "for i, app in enumerate(list(ukdale_appliance_data.keys())):\n",
    "    ax  = fig.add_subplot(3,2,i+1)\n",
    "    ax  = get_label_distribution(ax, validation[:,i], title=appliance_labels[app])\n",
    "fig.tight_layout()"
   ]
  },
  {
   "cell_type": "markdown",
   "metadata": {},
   "source": [
    "## Appliance profiles"
   ]
  },
  {
   "cell_type": "code",
   "execution_count": 72,
   "metadata": {},
   "outputs": [],
   "source": [
    "fig = figure(columns=1)\n",
    "plt.plot(z[4600:4753+1000, 3], color=colors[2])\n",
    "plt.yticks([0,1])\n",
    "plt.ylabel(\"$s(t)$\")\n",
    "plt.xlabel(\"sample $T$\")\n",
    "plt.tight_layout()\n",
    "savefig(fig_path+\"dishwasher_state\", format=\".pdf\")\n",
    "fig = figure(columns=1)\n",
    "plt.plot(y[4600:4753+1000, 3]*700 +700, color=colors[1])\n",
    "plt.ylabel(\"$y(t)$\")\n",
    "plt.xlabel(\"sample $T$\")\n",
    "plt.tight_layout()\n",
    "savefig(fig_path+\"dishwasher_power\", format=\".pdf\")"
   ]
  },
  {
   "cell_type": "code",
   "execution_count": 73,
   "metadata": {},
   "outputs": [
    {
     "data": {
      "text/plain": [
       "1253"
      ]
     },
     "execution_count": 73,
     "metadata": {},
     "output_type": "execute_result"
    }
   ],
   "source": [
    "4753+1000 - 4500"
   ]
  },
  {
   "cell_type": "markdown",
   "metadata": {},
   "source": [
    "### Input sequences"
   ]
  },
  {
   "cell_type": "code",
   "execution_count": 85,
   "metadata": {},
   "outputs": [],
   "source": [
    "import torch\n",
    "from data.data_loader import  Dataset\n",
    "data = Dataset(x[4500:4753+1000], y[4500:4753+1000], z[4500:4753+1000], 99)\n",
    "loader = torch.utils.data.DataLoader(data,batch_size=1253)"
   ]
  },
  {
   "cell_type": "code",
   "execution_count": 86,
   "metadata": {},
   "outputs": [],
   "source": [
    "batch = next(iter(loader))"
   ]
  },
  {
   "cell_type": "code",
   "execution_count": 114,
   "metadata": {},
   "outputs": [],
   "source": [
    "fig = figure(columns=1)\n",
    "plt.plot(batch[0].squeeze());\n",
    "plt.ylabel(\"$\\mathbf{x}_w$\")\n",
    "plt.xlabel(\"sample $T$\")\n",
    "plt.tight_layout()\n",
    "savefig(fig_path+\"input_sequence\", format=\".png\")"
   ]
  },
  {
   "cell_type": "code",
   "execution_count": 121,
   "metadata": {},
   "outputs": [
    {
     "data": {
      "image/png": "[encoded data removed]",
      "text/plain": [
       "<Figure size 244.08x150.85 with 1 Axes>"
      ]
     },
     "metadata": {},
     "output_type": "display_data"
    }
   ],
   "source": [
    "fig = figure(columns=1)\n",
    "for idx, app in enumerate(list(ukdale_appliance_data.keys())):\n",
    "    plt.plot(batch[2][:, idx], label=appliance_labels[app]);\n",
    "plt.ylabel(\"${s}(t) $\")\n",
    "plt.yticks([0,1])\n",
    "plt.xlabel(\"sample $T$\")\n",
    "\n",
    "#plt.legend()\n",
    "#plt.tight_layout()\n",
    "#savefig(fig_path+\"state_pred\", format=\".png\")"
   ]
  },
  {
   "cell_type": "code",
   "execution_count": 117,
   "metadata": {},
   "outputs": [],
   "source": [
    "fig = figure(columns=1)\n",
    "for idx, app in enumerate(list(ukdale_appliance_data.keys())):\n",
    "    plt.plot(batch[1][:, idx] * ukdale_appliance_data[app]['std'] + ukdale_appliance_data[app]['mean'],\\\n",
    "             label=appliance_labels[app]);\n",
    "plt.ylabel(\"${y}(t) W$\")\n",
    "plt.xlabel(\"sample $T$\")\n",
    "ax = plt.gca()\n",
    "#plt.legend()\n",
    "plt.tight_layout()\n",
    "savefig(fig_path+\"power_pred\", format=\".png\")"
   ]
  },
  {
   "cell_type": "code",
   "execution_count": null,
   "metadata": {},
   "outputs": [],
   "source": [
    "x = data.mains.values-np.percentile(data.mains.values, 1)\n",
    "x = np.where(x<0, 0, x)\n",
    "mains = quantile_filter(50, x, 50)"
   ]
  },
  {
   "cell_type": "code",
   "execution_count": null,
   "metadata": {},
   "outputs": [],
   "source": [
    "plt.plot(data.sub_mains.iloc[:3000])\n",
    "plt.plot(x[:3000])\n",
    "plt.plot(mains[:3000])"
   ]
  },
  {
   "cell_type": "code",
   "execution_count": null,
   "metadata": {},
   "outputs": [],
   "source": [
    "plt.plot(xp[:1000])\n",
    "#plt.plot(x[:1000])\n",
    "plt.plot(y[:1000, 0])"
   ]
  },
  {
   "cell_type": "code",
   "execution_count": null,
   "metadata": {},
   "outputs": [],
   "source": [
    "import torch\n",
    "class Dataset(torch.utils.data.Dataset):\n",
    "    def __init__(self,  inputs, targets, states,  seq_len=99):\n",
    "        self.inputs = inputs\n",
    "        self.targets = targets\n",
    "        self.states  = states\n",
    "        seq_len = seq_len  if seq_len% 2==0 else seq_len+1\n",
    "        self.seq_len = seq_len\n",
    "        self.len = self.inputs.shape[0] - self.seq_len\n",
    "        self.indices = np.arange(self.inputs.shape[0])\n",
    "    def __len__(self):\n",
    "        'Denotes the total number of samples'\n",
    "        return self.len\n",
    "    \n",
    "    def get_sample(self, index):\n",
    "        indices = self.indices[index:index + self.seq_len]\n",
    "        #indices = self.indices[index : index + self.seq_len]\n",
    "        inds_inputs=sorted(indices[:self.seq_len])\n",
    "        inds_targs=sorted(indices[self.seq_len-1:self.seq_len])\n",
    "\n",
    "        return self.inputs[inds_inputs], self.targets[inds_targs], self.states[inds_targs]\n",
    "\n",
    "    def __getitem__(self, index):\n",
    "        inputs, target, state = self.get_sample(index)\n",
    "        return torch.tensor(inputs).unsqueeze(-1).float(), torch.tensor(target).float().squeeze(), torch.tensor(state).long().squeeze()\n",
    "    \n",
    "\n",
    "    \n",
    "test_data = Dataset(aggregated[:300], data[:300], states[:300])\n",
    "#loader = torch.utils.data.DataLoader(test_data, batch_size=128, shuffle=False, pin_memory=True, num_workers=4)\n",
    "#input, targ, state=next(iter(loader))"
   ]
  },
  {
   "cell_type": "code",
   "execution_count": null,
   "metadata": {},
   "outputs": [],
   "source": [
    "x, y,z=next(iter(test_data))"
   ]
  },
  {
   "cell_type": "code",
   "execution_count": null,
   "metadata": {},
   "outputs": [],
   "source": [
    "x,y,z=test_data.get_sample(202)\n",
    "print(x.shape)"
   ]
  },
  {
   "cell_type": "code",
   "execution_count": null,
   "metadata": {},
   "outputs": [],
   "source": [
    "times = []\n",
    "indices = np.ra\n",
    "for index in range(0, 300, 100):\n",
    "    "
   ]
  },
  {
   "cell_type": "code",
   "execution_count": null,
   "metadata": {},
   "outputs": [],
   "source": []
  }
 ],
 "metadata": {
  "kernelspec": {
   "display_name": "Python 3",
   "language": "python",
   "name": "python3"
  },
  "language_info": {
   "codemirror_mode": {
    "name": "ipython",
    "version": 3
   },
   "file_extension": ".py",
   "mimetype": "text/x-python",
   "name": "python",
   "nbconvert_exporter": "python",
   "pygments_lexer": "ipython3",
   "version": "3.7.7"
  },
  "latex_envs": {
   "LaTeX_envs_menu_present": true,
   "autoclose": false,
   "autocomplete": true,
   "bibliofile": "biblio.bib",
   "cite_by": "apalike",
   "current_citInitial": 1,
   "eqLabelWithNumbers": true,
   "eqNumInitial": 1,
   "hotkeys": {
    "equation": "Ctrl-E",
    "itemize": "Ctrl-I"
   },
   "labels_anchors": false,
   "latex_user_defs": false,
   "report_style_numbering": false,
   "user_envs_cfg": false
  }
 },
 "nbformat": 4,
 "nbformat_minor": 4
}
