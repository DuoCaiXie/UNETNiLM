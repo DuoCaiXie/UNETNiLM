{
 "cells": [
  {
   "cell_type": "code",
   "execution_count": 107,
   "metadata": {},
   "outputs": [],
   "source": [
    "import pandas as pd\n",
    "import sys\n",
    "sys.path.append('../src/')\n",
    "%matplotlib inline\n",
    "import numpy as np\n",
    "from utils.visual_functions import *\n",
    "from net.metrics import compute_regress_metrics, compute_metrics, example_f1_score\n",
    "from data.load_data import ukdale_appliance_data as appliance_data"
   ]
  },
  {
   "cell_type": "code",
   "execution_count": 85,
   "metadata": {},
   "outputs": [],
   "source": [
    "result_unet = np.load(\"../results/ukdale/ukdale_UNETNiLM_quantilesresults.npy\", allow_pickle=True).item()\n",
    "result_cnn = np.load(\"../results/ukdale/ukdale_CNN1D_quantilesresults.npy\", allow_pickle=True).item()"
   ]
  },
  {
   "cell_type": "code",
   "execution_count": 140,
   "metadata": {},
   "outputs": [
    {
     "name": "stdout",
     "output_type": "stream",
     "text": [
      "APP kettle\n",
      "       mean    std\n",
      "EAC   0.677  0.017\n",
      "MAE  16.003  0.824\n",
      "NDE   0.429  0.039\n",
      "\n",
      "APP fridge\n",
      "       mean    std\n",
      "EAC   0.937  0.000\n",
      "MAE  15.124  0.014\n",
      "NDE   0.072  0.000\n",
      "\n",
      "APP dishwasher\n",
      "      mean    std\n",
      "EAC  0.914  0.000\n",
      "MAE  6.764  0.012\n",
      "NDE  0.080  0.000\n",
      "\n",
      "APP washingmachine\n",
      "       mean    std\n",
      "EAC   0.909  0.000\n",
      "MAE  11.506  0.006\n",
      "NDE   0.062  0.000\n",
      "\n",
      "APP microwave\n",
      "      mean    std\n",
      "EAC  0.753  0.003\n",
      "MAE  6.475  0.072\n",
      "NDE  0.334  0.005\n",
      "\n",
      "\n",
      "       kettle  fridge  dishwasher  washingmachine  microwave\n",
      "ExbF1   0.956   0.962       0.909           0.963      0.916\n",
      "                                                        0\n",
      "subACC                                             0.9609\n",
      "appF1   [0.956091, 0.9621313, 0.90940106, 0.9625163, 0...\n",
      "HA                                                  0.991\n",
      "ebF1                                               0.9412\n",
      "miF1                                               0.9581\n",
      "maF1                                               0.9412\n"
     ]
    }
   ],
   "source": [
    "pred_power=result_unet['pred_power']\n",
    "pred_state=result_unet['pred_state']\n",
    "power=result_unet['power']\n",
    "state=result_unet['state']\n",
    "all_reg_results_mean = []\n",
    "all_reg_results_std = []\n",
    "regress = {}\n",
    "for idx, app in enumerate(list(appliance_data.keys())):\n",
    "    regress_results = []\n",
    "    for  q in range(5):\n",
    "        result = compute_regress_metrics(power[:,idx]*state[:,idx], pred_power[:,q,idx]*pred_state[:,idx])\n",
    "        result = pd.DataFrame.from_dict(result, orient=\"index\")\n",
    "        regress_results.append(result)\n",
    "    regress_results = pd.concat(regress_results, axis=1)\n",
    "    #regress_results.columns = list(appliance_data.keys())\n",
    "    #regress[app]=regress_results\n",
    "    print(\"APP\", app)\n",
    "    mean = regress_results.mean(1).round(3)\n",
    "    std  = regress_results.std(1).round(3)\n",
    "    reg=pd.concat([mean, std], axis=1)\n",
    "    reg.columns =[\"mean\", 'std']\n",
    "    all_reg_results_mean.append( mean)\n",
    "    all_reg_results_std.append(std)\n",
    "    print(reg)\n",
    "    print(\"\")\n",
    "ebf1 = {\"ExbF1\":example_f1_score(state, pred_state, axis=0, per_sample=True).tolist()}\n",
    "ebf1 =pd.DataFrame.from_dict(ebf1, orient=\"index\")\n",
    "ebf1.columns = list(appliance_data.keys())\n",
    "print(\"\")\n",
    "print(ebf1.round(3))\n",
    "\n",
    "\n",
    "print(pd.DataFrame.from_dict(compute_metrics(state, pred_state), orient=\"index\"))"
   ]
  },
  {
   "cell_type": "code",
   "execution_count": 133,
   "metadata": {},
   "outputs": [
    {
     "data": {
      "text/plain": [
       "EAC     0.838\n",
       "MAE    11.174\n",
       "NDE     0.195\n",
       "dtype: float64"
      ]
     },
     "execution_count": 133,
     "metadata": {},
     "output_type": "execute_result"
    }
   ],
   "source": [
    "pd.concat(all_reg_results_mean, axis=1).mean(1).round(3)"
   ]
  },
  {
   "cell_type": "code",
   "execution_count": 134,
   "metadata": {},
   "outputs": [
    {
     "data": {
      "text/plain": [
       "EAC    0.004\n",
       "MAE    0.186\n",
       "NDE    0.009\n",
       "dtype: float64"
      ]
     },
     "execution_count": 134,
     "metadata": {},
     "output_type": "execute_result"
    }
   ],
   "source": []
  },
  {
   "cell_type": "code",
   "execution_count": 166,
   "metadata": {},
   "outputs": [
    {
     "data": {
      "text/html": [
       "<div>\n",
       "<style scoped>\n",
       "    .dataframe tbody tr th:only-of-type {\n",
       "        vertical-align: middle;\n",
       "    }\n",
       "\n",
       "    .dataframe tbody tr th {\n",
       "        vertical-align: top;\n",
       "    }\n",
       "\n",
       "    .dataframe thead th {\n",
       "        text-align: right;\n",
       "    }\n",
       "</style>\n",
       "<table border=\"1\" class=\"dataframe\">\n",
       "  <thead>\n",
       "    <tr style=\"text-align: right;\">\n",
       "      <th></th>\n",
       "      <th>0</th>\n",
       "    </tr>\n",
       "  </thead>\n",
       "  <tbody>\n",
       "    <tr>\n",
       "      <th>subACC</th>\n",
       "      <td>0.9609</td>\n",
       "    </tr>\n",
       "    <tr>\n",
       "      <th>appF1</th>\n",
       "      <td>[0.956091, 0.9621313, 0.90940106, 0.9625163, 0...</td>\n",
       "    </tr>\n",
       "    <tr>\n",
       "      <th>HA</th>\n",
       "      <td>0.991</td>\n",
       "    </tr>\n",
       "    <tr>\n",
       "      <th>ebF1</th>\n",
       "      <td>0.9412</td>\n",
       "    </tr>\n",
       "    <tr>\n",
       "      <th>miF1</th>\n",
       "      <td>0.9581</td>\n",
       "    </tr>\n",
       "    <tr>\n",
       "      <th>maF1</th>\n",
       "      <td>0.9412</td>\n",
       "    </tr>\n",
       "  </tbody>\n",
       "</table>\n",
       "</div>"
      ],
      "text/plain": [
       "                                                        0\n",
       "subACC                                             0.9609\n",
       "appF1   [0.956091, 0.9621313, 0.90940106, 0.9625163, 0...\n",
       "HA                                                  0.991\n",
       "ebF1                                               0.9412\n",
       "miF1                                               0.9581\n",
       "maF1                                               0.9412"
      ]
     },
     "execution_count": 166,
     "metadata": {},
     "output_type": "execute_result"
    }
   ],
   "source": [
    "result_unet['results']"
   ]
  },
  {
   "cell_type": "markdown",
   "metadata": {},
   "source": [
    "## CNN results"
   ]
  },
  {
   "cell_type": "code",
   "execution_count": 141,
   "metadata": {},
   "outputs": [
    {
     "name": "stdout",
     "output_type": "stream",
     "text": [
      "APP kettle\n",
      "       mean    std\n",
      "EAC   0.589  0.003\n",
      "MAE  20.390  0.169\n",
      "NDE   0.674  0.010\n",
      "\n",
      "APP fridge\n",
      "       mean    std\n",
      "EAC   0.923  0.000\n",
      "MAE  18.583  0.006\n",
      "NDE   0.073  0.000\n",
      "\n",
      "APP dishwasher\n",
      "      mean    std\n",
      "EAC  0.875  0.000\n",
      "MAE  9.884  0.012\n",
      "NDE  0.126  0.000\n",
      "\n",
      "APP washingmachine\n",
      "       mean    std\n",
      "EAC   0.875  0.000\n",
      "MAE  15.758  0.009\n",
      "NDE   0.111  0.000\n",
      "\n",
      "APP microwave\n",
      "      mean    std\n",
      "EAC  0.630  0.002\n",
      "MAE  9.690  0.055\n",
      "NDE  0.656  0.007\n",
      "\n",
      "\n",
      "       kettle  fridge  dishwasher  washingmachine  microwave\n",
      "ExbF1   0.944   0.964       0.913           0.954      0.907\n",
      "                                                        0\n",
      "subACC                                             0.9626\n",
      "appF1   [0.94368756, 0.96439606, 0.91325504, 0.9540875...\n",
      "HA                                                 0.9912\n",
      "ebF1                                               0.9365\n",
      "miF1                                               0.9587\n",
      "maF1                                               0.9365\n"
     ]
    }
   ],
   "source": [
    "pred_power=result_cnn['pred_power']\n",
    "pred_state=result_cnn['pred_state']\n",
    "power=result_cnn['power']\n",
    "state=result_cnn['state']\n",
    "all_reg_results_mean = []\n",
    "all_reg_results_std = []\n",
    "regress = {}\n",
    "for idx, app in enumerate(list(appliance_data.keys())):\n",
    "    regress_results = []\n",
    "    for  q in range(5):\n",
    "        result = compute_regress_metrics(power[:,idx]*state[:,idx], pred_power[:,q,idx]*pred_state[:,idx])\n",
    "        result = pd.DataFrame.from_dict(result, orient=\"index\")\n",
    "        regress_results.append(result)\n",
    "    regress_results = pd.concat(regress_results, axis=1)\n",
    "    #regress_results.columns = list(appliance_data.keys())\n",
    "    #regress[app]=regress_results\n",
    "    print(\"APP\", app)\n",
    "    mean = regress_results.mean(1).round(3)\n",
    "    std  = regress_results.std(1).round(3)\n",
    "    reg=pd.concat([mean, std], axis=1)\n",
    "    reg.columns =[\"mean\", 'std']\n",
    "    all_reg_results_mean.append( mean)\n",
    "    all_reg_results_std.append(std)\n",
    "    print(reg)\n",
    "    print(\"\")\n",
    "ebf1 = {\"ExbF1\":example_f1_score(state, pred_state, axis=0, per_sample=True).tolist()}\n",
    "ebf1 =pd.DataFrame.from_dict(ebf1, orient=\"index\")\n",
    "ebf1.columns = list(appliance_data.keys())\n",
    "print(\"\")\n",
    "print(ebf1.round(3))\n",
    "print(pd.DataFrame.from_dict(compute_metrics(state, pred_state), orient=\"index\"))"
   ]
  },
  {
   "cell_type": "code",
   "execution_count": 136,
   "metadata": {},
   "outputs": [
    {
     "data": {
      "text/plain": [
       "EAC     0.778\n",
       "MAE    14.861\n",
       "NDE     0.328\n",
       "dtype: float64"
      ]
     },
     "execution_count": 136,
     "metadata": {},
     "output_type": "execute_result"
    }
   ],
   "source": [
    "pd.concat(all_reg_results_mean, axis=1).mean(1).round(3)"
   ]
  },
  {
   "cell_type": "code",
   "execution_count": 137,
   "metadata": {},
   "outputs": [
    {
     "data": {
      "text/plain": [
       "EAC    0.001\n",
       "MAE    0.050\n",
       "NDE    0.003\n",
       "dtype: float64"
      ]
     },
     "execution_count": 137,
     "metadata": {},
     "output_type": "execute_result"
    }
   ],
   "source": [
    "pd.concat(all_reg_results_std, axis=1).mean(1).round(3)"
   ]
  },
  {
   "cell_type": "markdown",
   "metadata": {},
   "source": [
    "## Visual"
   ]
  },
  {
   "cell_type": "code",
   "execution_count": 188,
   "metadata": {},
   "outputs": [],
   "source": [
    "y_p_cnn = result_cnn['pred_power'][41160:41172+5000]\n",
    "y_t_cnn = result_cnn['power'][41160:41172+5000]\n",
    "z_t_cnn = result_cnn['state'][41160:41172+5000]\n",
    "z_p_cnn = result_cnn['pred_state'][41160:41172+5000]"
   ]
  },
  {
   "cell_type": "code",
   "execution_count": 189,
   "metadata": {},
   "outputs": [],
   "source": [
    "appliance_labels={'kettle':\"KT\", 'fridge':\"FRZ\", 'dishwasher':\"DW\", 'washingmachine':\"WM\", 'microwave':\"MW\"}\n",
    "fig = plt.figure(figsize=(6, 4))\n",
    "for i, app in enumerate(list(appliance_data.keys())):\n",
    "    #plt.plot(y_t_cnn[:,i], label=appliance_labels[app], color=colors[i])\n",
    "    plt.plot(y_p_cnn[:,2,i]*z_p_cnn[:,i], label=appliance_labels[app], color=colors[i], linestyle=\"--\")\n",
    "plt.ylabel(\"Power $W$\")\n",
    "plt.legend()\n",
    "savefig(\"cnn_prediction\", format=\".pdf\")"
   ]
  },
  {
   "cell_type": "code",
   "execution_count": 187,
   "metadata": {},
   "outputs": [],
   "source": [
    "appliance_labels={'kettle':\"KT\", 'fridge':\"FRZ\", 'dishwasher':\"DW\", 'washingmachine':\"WM\", 'microwave':\"MW\"}\n",
    "fig = plt.figure(figsize=(6, 4))\n",
    "for i, app in enumerate(list(appliance_data.keys())):\n",
    "    plt.plot(y_t_cnn[:,i]*z_t_cnn[:,i], label=appliance_labels[app], color=colors[i])\n",
    "    #plt.plot(y_p_cnn[:,2,i]t label=appliance_labels[app], color=colors[i], linestyle=\"--\")\n",
    "plt.ylabel(\"Power $W$\")\n",
    "plt.legend()\n",
    "savefig(\"ground_truth\", format=\".pdf\")"
   ]
  },
  {
   "cell_type": "code",
   "execution_count": null,
   "metadata": {},
   "outputs": [],
   "source": []
  }
 ],
 "metadata": {
  "kernelspec": {
   "display_name": "Python 3",
   "language": "python",
   "name": "python3"
  },
  "language_info": {
   "codemirror_mode": {
    "name": "ipython",
    "version": 3
   },
   "file_extension": ".py",
   "mimetype": "text/x-python",
   "name": "python",
   "nbconvert_exporter": "python",
   "pygments_lexer": "ipython3",
   "version": "3.8.3"
  },
  "latex_envs": {
   "LaTeX_envs_menu_present": true,
   "autoclose": false,
   "autocomplete": true,
   "bibliofile": "biblio.bib",
   "cite_by": "apalike",
   "current_citInitial": 1,
   "eqLabelWithNumbers": true,
   "eqNumInitial": 1,
   "hotkeys": {
    "equation": "Ctrl-E",
    "itemize": "Ctrl-I"
   },
   "labels_anchors": false,
   "latex_user_defs": false,
   "report_style_numbering": false,
   "user_envs_cfg": false
  }
 },
 "nbformat": 4,
 "nbformat_minor": 4
}
