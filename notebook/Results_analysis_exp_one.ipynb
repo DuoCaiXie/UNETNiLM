{
 "cells": [
  {
   "cell_type": "code",
   "execution_count": 1,
   "metadata": {},
   "outputs": [],
   "source": [
    "import pandas as pd\n",
    "import sys\n",
    "sys.path.append('../src/')\n",
    "%matplotlib inline\n",
    "import numpy as np\n",
    "from utils.visual_functions import *\n",
    "from net.metrics import compute_regress_metrics, compute_metrics, example_f1_score\n",
    "from data.load_data import ukdale_appliance_data as appliance_data\n",
    "from sklearn import metrics\n",
    "import math\n",
    "import numpy as np\n",
    "from sklearn.metrics import f1_score, mean_absolute_error, mean_squared_error\n",
    "from collections import OrderedDict\n",
    "\n",
    "def get_mae(target, prediction):\n",
    "    return mean_absolute_error(target, prediction)\n",
    "\n",
    "def get_eac(target, prediction):\n",
    "    num = np.sum(np.abs(prediction-target))\n",
    "    den = (np.sum(target))\n",
    "    eac = 1 - (num/den)/2\n",
    "    return np.where(eac<0, 0, eac)\n",
    "\n",
    "def get_relative_error(target, prediction):\n",
    "    return np.mean(np.nan_to_num(np.abs(target - prediction) / np.maximum(target, prediction)))\n",
    "\n",
    "\n",
    "def get_nde(target, prediction):\n",
    "    return np.sum((target - prediction) ** 2) / np.sum((target ** 2))\n",
    "\n",
    "def compute_regress_metrics(target, prediction):\n",
    "    eac = get_eac(target, prediction)\n",
    "    mae = get_mae(target, prediction)\n",
    "    nade = get_nde(target, prediction)\n",
    "    \n",
    "   \n",
    "    metrics = OrderedDict([('EAC', eac),\n",
    "                        ('MAE', mae),\n",
    "                        ('NDE', nade)])\n",
    "    \n",
    "    metrics_dict = {}\n",
    "    metrics_dict['EAC'] = metrics[\"EAC\"]\n",
    "    metrics_dict['MAE'] = metrics[\"MAE\"]\n",
    "    metrics_dict['NDE'] = metrics[\"NDE\"]\n",
    "    \n",
    "    return metrics_dict\n",
    "\n",
    "appliances=['kettle', 'fridge', 'dishwasher', 'washingmachine', 'microwave'] "
   ]
  },
  {
   "cell_type": "code",
   "execution_count": 2,
   "metadata": {},
   "outputs": [],
   "source": [
    "#result_unet = np.load(\"../results/ukdale_UNETNiLM_quantilesresults.npy\", allow_pickle=True).item()\n",
    "result_cnn = np.load(\"../results/ukdale_CNN1D_quantiles_multi-applianceresults.npy\", allow_pickle=True).item()"
   ]
  },
  {
   "cell_type": "code",
   "execution_count": 3,
   "metadata": {},
   "outputs": [],
   "source": [
    "pred_power=result_cnn['pred_power']\n",
    "pred_state=result_cnn['pred_state']\n",
    "power=result_cnn['power']\n",
    "state=result_cnn['state']"
   ]
  },
  {
   "cell_type": "code",
   "execution_count": 5,
   "metadata": {},
   "outputs": [],
   "source": [
    "def smape_score(target, prediction):\n",
    "    denom = np.abs(prediction) + np.abs(target) \n",
    "    score =(2 * np.abs(prediction - target).mean(0))/(denom.mean(0) + 1e-8)\n",
    "    return score  "
   ]
  },
  {
   "cell_type": "code",
   "execution_count": 31,
   "metadata": {},
   "outputs": [
    {
     "output_type": "execute_result",
     "data": {
      "text/plain": [
       "array([-0.02520563,  0.7804243 , -0.3360108 ,  0.02802461, -0.07546163],\n",
       "      dtype=float32)"
      ]
     },
     "metadata": {},
     "execution_count": 31
    }
   ],
   "source": [
    "y_t = power \n",
    "y_p =  pred_power[:,2,:]\n",
    "def get_CEP(y_t, y_p):\n",
    "    c = np.sum((y_t == y_p).astype(int)*y_p, 0)\n",
    "    ce = np.sum((y_t > y_p).astype(int)*y_t, 0)\n",
    "    co = np.sum((y_t < y_p).astype(int)*y_p, 0)\n",
    "    gt = np.sum(y_t, 0)\n",
    "    CEP = (c + ce + co)[gt!=0]/(gt[gt!=0])\n",
    "    CEP[gt==0]=1.0\n",
    "    return CEP\n",
    "gt = np.sum(y_t, 0)\n",
    "O = np.sum( (y_p - y_t), 0)\n",
    "U = np.sum( (y_t - y_p), 0)\n",
    "\n",
    "OE = O[gt!=0]/(gt[gt!=0])\n",
    "OE"
   ]
  },
  {
   "cell_type": "code",
   "execution_count": 7,
   "metadata": {},
   "outputs": [
    {
     "output_type": "execute_result",
     "data": {
      "text/plain": [
       "array([0.52876055, 0.6509373 , 0.45955464, 0.22291598, 0.33214587],\n",
       "      dtype=float32)"
      ]
     },
     "metadata": {},
     "execution_count": 7
    }
   ],
   "source": [
    "smape_score(power, pred_power[:,2,:])"
   ]
  },
  {
   "cell_type": "code",
   "execution_count": null,
   "metadata": {},
   "outputs": [],
   "source": [
    "112.193428  24.682268  103.999756       34.784824  35.651764"
   ]
  },
  {
   "cell_type": "code",
   "execution_count": 27,
   "metadata": {},
   "outputs": [
    {
     "name": "stdout",
     "output_type": "stream",
     "text": [
      "APP kettle\n",
      "       mean    std\n",
      "EAC   0.677  0.017\n",
      "MAE  16.003  0.824\n",
      "NDE   0.429  0.039\n",
      "\n",
      "APP fridge\n",
      "       mean    std\n",
      "EAC   0.937  0.000\n",
      "MAE  15.124  0.014\n",
      "NDE   0.072  0.000\n",
      "\n",
      "APP dishwasher\n",
      "      mean    std\n",
      "EAC  0.914  0.000\n",
      "MAE  6.764  0.012\n",
      "NDE  0.080  0.000\n",
      "\n",
      "APP washingmachine\n",
      "       mean    std\n",
      "EAC   0.909  0.000\n",
      "MAE  11.506  0.006\n",
      "NDE   0.062  0.000\n",
      "\n",
      "APP microwave\n",
      "      mean    std\n",
      "EAC  0.753  0.003\n",
      "MAE  6.475  0.072\n",
      "NDE  0.334  0.005\n",
      "\n",
      "\n"
     ]
    }
   ],
   "source": [
    "pred_power=result_unet['pred_power']\n",
    "pred_state=result_unet['pred_state']\n",
    "power=result_unet['power']\n",
    "state=result_unet['state']\n",
    "all_reg_results_mean = []\n",
    "all_reg_results_std = []\n",
    "regress = {}\n",
    "for idx, app in enumerate(list(appliance_data.keys())):\n",
    "    regress_results = []\n",
    "    for  q in range(5):\n",
    "        result = compute_regress_metrics(power[:,idx]*state[:,idx], pred_power[:,q,idx]*pred_state[:,idx])\n",
    "        result = pd.DataFrame.from_dict(result, orient=\"index\")\n",
    "        regress_results.append(result)\n",
    "    regress_results = pd.concat(regress_results, axis=1)\n",
    "    #regress_results.columns = list(appliance_data.keys())\n",
    "    #regress[app]=regress_results\n",
    "    print(\"APP\", app)\n",
    "    mean = regress_results.mean(1).round(3)\n",
    "    std  = regress_results.std(1).round(3)\n",
    "    reg=pd.concat([mean, std], axis=1)\n",
    "    reg.columns =[\"mean\", 'std']\n",
    "    all_reg_results_mean.append( mean)\n",
    "    all_reg_results_std.append(std)\n",
    "    print(reg)\n",
    "    print(\"\")\n",
    "#ebf1 = {\"ExbF1\":example_f1_score(state, pred_state, axis=0, per_sample=True).tolist()}\n",
    "#ebf1 =pd.DataFrame.from_dict(ebf1, orient=\"index\")\n",
    "#ebf1.columns = list(appliance_data.keys())\n",
    "print(\"\")\n",
    "#print(ebf1.round(3))\n",
    "\n",
    "\n",
    "#print(pd.DataFrame.from_dict(compute_metrics(state, pred_state), orient=\"index\"))"
   ]
  },
  {
   "cell_type": "code",
   "execution_count": 17,
   "metadata": {},
   "outputs": [
    {
     "data": {
      "text/plain": [
       "EAC     0.927\n",
       "MAE    36.340\n",
       "NDE     0.100\n",
       "dtype: float64"
      ]
     },
     "execution_count": 17,
     "metadata": {},
     "output_type": "execute_result"
    }
   ],
   "source": [
    "pd.concat(all_reg_results_mean, axis=1).mean(1).round(3)"
   ]
  },
  {
   "cell_type": "markdown",
   "metadata": {},
   "source": [
    "## CNN results"
   ]
  },
  {
   "cell_type": "code",
   "execution_count": 20,
   "metadata": {},
   "outputs": [],
   "source": [
    "result_cnn = np.load(\"../results/ukdale_CNN1D_quantiles_multi-applianceresults.npy\", allow_pickle=True).item()"
   ]
  },
  {
   "cell_type": "code",
   "execution_count": 34,
   "metadata": {},
   "outputs": [
    {
     "data": {
      "text/html": [
       "<div>\n",
       "<style scoped>\n",
       "    .dataframe tbody tr th:only-of-type {\n",
       "        vertical-align: middle;\n",
       "    }\n",
       "\n",
       "    .dataframe tbody tr th {\n",
       "        vertical-align: top;\n",
       "    }\n",
       "\n",
       "    .dataframe thead th {\n",
       "        text-align: right;\n",
       "    }\n",
       "</style>\n",
       "<table border=\"1\" class=\"dataframe\">\n",
       "  <thead>\n",
       "    <tr style=\"text-align: right;\">\n",
       "      <th></th>\n",
       "      <th>ukdale</th>\n",
       "    </tr>\n",
       "  </thead>\n",
       "  <tbody>\n",
       "    <tr>\n",
       "      <th>EAC</th>\n",
       "      <td>0.923241</td>\n",
       "    </tr>\n",
       "    <tr>\n",
       "      <th>NDE</th>\n",
       "      <td>6.081102</td>\n",
       "    </tr>\n",
       "    <tr>\n",
       "      <th>MAE</th>\n",
       "      <td>30.002014</td>\n",
       "    </tr>\n",
       "    <tr>\n",
       "      <th>exbF1</th>\n",
       "      <td>0.643800</td>\n",
       "    </tr>\n",
       "    <tr>\n",
       "      <th>maF1</th>\n",
       "      <td>0.643800</td>\n",
       "    </tr>\n",
       "    <tr>\n",
       "      <th>miF1</th>\n",
       "      <td>0.778200</td>\n",
       "    </tr>\n",
       "    <tr>\n",
       "      <th>HA</th>\n",
       "      <td>0.954628</td>\n",
       "    </tr>\n",
       "  </tbody>\n",
       "</table>\n",
       "</div>"
      ],
      "text/plain": [
       "          ukdale\n",
       "EAC     0.923241\n",
       "NDE     6.081102\n",
       "MAE    30.002014\n",
       "exbF1   0.643800\n",
       "maF1    0.643800\n",
       "miF1    0.778200\n",
       "HA      0.954628"
      ]
     },
     "execution_count": 34,
     "metadata": {},
     "output_type": "execute_result"
    }
   ],
   "source": [
    "result_cnn['avg_results']"
   ]
  },
  {
   "cell_type": "code",
   "execution_count": 32,
   "metadata": {},
   "outputs": [
    {
     "name": "stdout",
     "output_type": "stream",
     "text": [
      "APP kettle\n",
      "        mean     std\n",
      "EAC    0.721   0.083\n",
      "MAE  125.097  37.214\n",
      "NDE    0.484   0.190\n",
      "\n",
      "APP fridge\n",
      "      mean    std\n",
      "EAC  0.939  0.020\n",
      "MAE  6.355  2.099\n",
      "NDE  0.263  0.093\n",
      "\n",
      "APP dishwasher\n",
      "       mean    std\n",
      "EAC   0.922  0.008\n",
      "MAE  33.477  3.285\n",
      "NDE   0.516  0.089\n",
      "\n",
      "APP washingmachine\n",
      "       mean    std\n",
      "EAC   0.955  0.013\n",
      "MAE  22.009  6.356\n",
      "NDE   0.340  0.166\n",
      "\n",
      "APP microwave\n",
      "       mean    std\n",
      "EAC   0.931  0.027\n",
      "MAE  18.561  7.291\n",
      "NDE   0.524  0.187\n",
      "\n",
      "\n",
      "       kettle  fridge  dishwasher  washingmachine  microwave\n",
      "ExbF1   0.767   0.773       0.585           0.928      0.167\n"
     ]
    }
   ],
   "source": [
    "pred_power=result_cnn['pred_power']\n",
    "pred_state=result_cnn['pred_state']\n",
    "power=result_cnn['power']\n",
    "state=result_cnn['state']\n",
    "all_reg_results_mean = []\n",
    "all_reg_results_std = []\n",
    "regress = {}\n",
    "for idx, app in enumerate(appliances):\n",
    "    regress_results = []\n",
    "    for  q in range(3):\n",
    "        result = compute_regress_metrics(power[:,idx], pred_power[:,q,idx])\n",
    "        result = pd.DataFrame.from_dict(result, orient=\"index\")\n",
    "        regress_results.append(result)\n",
    "    regress_results = pd.concat(regress_results, axis=1)\n",
    "    #regress_results.columns = list(appliance_data.keys())\n",
    "    #regress[app]=regress_results\n",
    "    print(\"APP\", app)\n",
    "    mean = regress_results.mean(1).round(3)\n",
    "    std  = regress_results.std(1).round(3)\n",
    "    reg=pd.concat([mean, std], axis=1)\n",
    "    reg.columns =[\"mean\", 'std']\n",
    "    all_reg_results_mean.append( mean)\n",
    "    all_reg_results_std.append(std)\n",
    "    print(reg)\n",
    "    print(\"\")\n",
    "ebf1 = {\"ExbF1\":example_f1_score(state, pred_state, axis=0, per_sample=True).tolist()}\n",
    "ebf1 =pd.DataFrame.from_dict(ebf1, orient=\"index\")\n",
    "ebf1.columns = appliances\n",
    "print(\"\")\n",
    "print(ebf1.round(3))\n",
    "#print(pd.DataFrame.from_dict(compute_metrics(state, pred_state), orient=\"index\"))"
   ]
  },
  {
   "cell_type": "code",
   "execution_count": 20,
   "metadata": {},
   "outputs": [
    {
     "data": {
      "text/plain": [
       "EAC     0.947\n",
       "MAE    19.340\n",
       "NDE     0.127\n",
       "dtype: float64"
      ]
     },
     "execution_count": 20,
     "metadata": {},
     "output_type": "execute_result"
    }
   ],
   "source": [
    "pd.concat(all_reg_results_mean, axis=1).mean(1).round(3)"
   ]
  },
  {
   "cell_type": "code",
   "execution_count": 21,
   "metadata": {},
   "outputs": [
    {
     "data": {
      "text/plain": [
       "EAC    0.002\n",
       "MAE    1.260\n",
       "NDE    0.001\n",
       "dtype: float64"
      ]
     },
     "execution_count": 21,
     "metadata": {},
     "output_type": "execute_result"
    }
   ],
   "source": [
    "pd.concat(all_reg_results_std, axis=1).mean(1).round(3)"
   ]
  },
  {
   "cell_type": "markdown",
   "metadata": {},
   "source": [
    "## Visual"
   ]
  },
  {
   "cell_type": "code",
   "execution_count": 188,
   "metadata": {},
   "outputs": [],
   "source": [
    "y_p_cnn = result_cnn['pred_power'][41160:41172+5000]\n",
    "y_t_cnn = result_cnn['power'][41160:41172+5000]\n",
    "z_t_cnn = result_cnn['state'][41160:41172+5000]\n",
    "z_p_cnn = result_cnn['pred_state'][41160:41172+5000]"
   ]
  },
  {
   "cell_type": "code",
   "execution_count": 189,
   "metadata": {},
   "outputs": [],
   "source": [
    "appliance_labels={'kettle':\"KT\", 'fridge':\"FRZ\", 'dishwasher':\"DW\", 'washingmachine':\"WM\", 'microwave':\"MW\"}\n",
    "fig = plt.figure(figsize=(6, 4))\n",
    "for i, app in enumerate(list(appliance_data.keys())):\n",
    "    #plt.plot(y_t_cnn[:,i], label=appliance_labels[app], color=colors[i])\n",
    "    plt.plot(y_p_cnn[:,2,i]*z_p_cnn[:,i], label=appliance_labels[app], color=colors[i], linestyle=\"--\")\n",
    "plt.ylabel(\"Power $W$\")\n",
    "plt.legend()\n",
    "savefig(\"cnn_prediction\", format=\".pdf\")"
   ]
  },
  {
   "cell_type": "code",
   "execution_count": 187,
   "metadata": {},
   "outputs": [],
   "source": [
    "appliance_labels={'kettle':\"KT\", 'fridge':\"FRZ\", 'dishwasher':\"DW\", 'washingmachine':\"WM\", 'microwave':\"MW\"}\n",
    "fig = plt.figure(figsize=(6, 4))\n",
    "for i, app in enumerate(list(appliance_data.keys())):\n",
    "    plt.plot(y_t_cnn[:,i]*z_t_cnn[:,i], label=appliance_labels[app], color=colors[i])\n",
    "    #plt.plot(y_p_cnn[:,2,i]t label=appliance_labels[app], color=colors[i], linestyle=\"--\")\n",
    "plt.ylabel(\"Power $W$\")\n",
    "plt.legend()\n",
    "savefig(\"ground_truth\", format=\".pdf\")"
   ]
  },
  {
   "cell_type": "code",
   "execution_count": null,
   "metadata": {},
   "outputs": [],
   "source": []
  }
 ],
 "metadata": {
  "kernelspec": {
   "display_name": "Python 3",
   "language": "python",
   "name": "python3"
  },
  "language_info": {
   "codemirror_mode": {
    "name": "ipython",
    "version": 3
   },
   "file_extension": ".py",
   "mimetype": "text/x-python",
   "name": "python",
   "nbconvert_exporter": "python",
   "pygments_lexer": "ipython3",
   "version": "3.8.3-final"
  },
  "latex_envs": {
   "LaTeX_envs_menu_present": true,
   "autoclose": false,
   "autocomplete": true,
   "bibliofile": "biblio.bib",
   "cite_by": "apalike",
   "current_citInitial": 1,
   "eqLabelWithNumbers": true,
   "eqNumInitial": 1,
   "hotkeys": {
    "equation": "Ctrl-E",
    "itemize": "Ctrl-I"
   },
   "labels_anchors": false,
   "latex_user_defs": false,
   "report_style_numbering": false,
   "user_envs_cfg": false
  }
 },
 "nbformat": 4,
 "nbformat_minor": 4
}