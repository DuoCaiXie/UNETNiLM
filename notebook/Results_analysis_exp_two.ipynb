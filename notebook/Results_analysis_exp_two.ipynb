{
 "cells": [
  {
   "cell_type": "code",
   "execution_count": 1,
   "metadata": {},
   "outputs": [],
   "source": [
    "import pandas as pd\n",
    "import sys\n",
    "sys.path.append('../src/')\n",
    "%matplotlib inline\n",
    "import numpy as np\n",
    "from utils.visual_functions import *\n",
    "from net.metrics import  compute_metrics, example_f1_score\n",
    "from data.load_data import ukdale_appliance_data as appliance_data\n",
    "from sklearn import metrics\n",
    "import math\n",
    "import numpy as np\n",
    "from sklearn.metrics import f1_score, mean_absolute_error, mean_squared_error\n",
    "from collections import OrderedDict\n",
    "\n",
    "\n",
    "\n",
    "def get_mae(target, prediction):\n",
    "    return mean_absolute_error(target, prediction)\n",
    "\n",
    "def get_eac(target, prediction):\n",
    "    num = np.sum(np.abs(prediction-target))\n",
    "    den = (np.sum(target))\n",
    "    eac = 1 - (num/den)/2\n",
    "    return np.where(eac<0, 0, eac)\n",
    "\n",
    "def get_relative_error(target, prediction):\n",
    "    return np.mean(np.nan_to_num(np.abs(target - prediction) / np.maximum(target, prediction)))\n",
    "\n",
    "\n",
    "def get_nde(target, prediction):\n",
    "    return np.sum((target - prediction) ** 2) / np.sum((target ** 2))\n",
    "\n",
    "def compute_regress_metrics(target, prediction):\n",
    "    eac = get_eac(target, prediction)\n",
    "    mae = get_mae(target, prediction)\n",
    "    nade = get_nde(target, prediction)\n",
    "    \n",
    "   \n",
    "    metrics = OrderedDict([('EAC', eac),\n",
    "                        ('MAE', mae),\n",
    "                        ('NDE', nade)])\n",
    "    \n",
    "    metrics_dict = {}\n",
    "    metrics_dict['EAC'] = metrics[\"EAC\"]\n",
    "    metrics_dict['MAE'] = metrics[\"MAE\"]\n",
    "    metrics_dict['NDE'] = metrics[\"NDE\"]\n",
    "    \n",
    "    return metrics_dict"
   ]
  },
  {
   "cell_type": "code",
   "execution_count": 2,
   "metadata": {},
   "outputs": [],
   "source": [
    "result_cnn = np.load(\"../results/ukdale_CNN1D_quantiles_single-appliance_microwaveresults.npy\", allow_pickle=True).item()\n",
    "#result_cnn = np.load(\"../results/ukdale_CNN1D_quantiles_multi-applianceresults.npy\", allow_pickle=True).item()"
   ]
  },
  {
   "cell_type": "code",
   "execution_count": 13,
   "metadata": {},
   "outputs": [
    {
     "data": {
      "text/plain": [
       "(7400, 1)"
      ]
     },
     "execution_count": 13,
     "metadata": {},
     "output_type": "execute_result"
    }
   ],
   "source": [
    "plt.plot(result_cnn[app]['power'])"
   ]
  },
  {
   "cell_type": "code",
   "execution_count": 14,
   "metadata": {},
   "outputs": [
    {
     "name": "stdout",
     "output_type": "stream",
     "text": [
      "APP kettle\n",
      "       mean    std\n",
      "EAC   0.521  0.001\n",
      "MAE  63.231  0.115\n",
      "NDE   0.919  0.003\n",
      "\n",
      "APP fridge\n",
      "       mean    std\n",
      "EAC   0.975  0.003\n",
      "MAE  15.654  2.108\n",
      "NDE   0.008  0.001\n",
      "\n",
      "APP dishwasher\n",
      "     mean  std\n",
      "EAC   NaN  NaN\n",
      "MAE   0.0  0.0\n",
      "NDE   NaN  NaN\n",
      "\n",
      "APP washingmachine\n",
      "     mean  std\n",
      "EAC   NaN  NaN\n",
      "MAE   0.0  0.0\n",
      "NDE   NaN  NaN\n",
      "\n",
      "APP microwave\n",
      "     mean  std\n",
      "EAC   NaN  NaN\n",
      "MAE   0.0  0.0\n",
      "NDE   NaN  NaN\n",
      "\n"
     ]
    }
   ],
   "source": [
    "all_reg_results_mean = []\n",
    "all_reg_results_std = []\n",
    "regress = {}\n",
    "for idx, app in enumerate(list(appliance_data.keys())):\n",
    "    regress_results = []\n",
    "    pred_state=result_cnn[app]['pred_state']\n",
    "    state=result_cnn[app]['state']\n",
    "    for  q in range(5):\n",
    "        result = compute_regress_metrics(result_cnn[app]['power']*state, result_cnn[app]['pred_power'][:,q,:]*pred_state)\n",
    "        result = pd.DataFrame.from_dict(result, orient=\"index\")\n",
    "        regress_results.append(result)\n",
    "    regress_results = pd.concat(regress_results, axis=1)\n",
    "    print(\"APP\", app)\n",
    "    mean = regress_results.mean(1).round(3)\n",
    "    std  = regress_results.std(1).round(3)\n",
    "    reg=pd.concat([mean, std], axis=1)\n",
    "    reg.columns =[\"mean\", 'std']\n",
    "    all_reg_results_mean.append( mean)\n",
    "    all_reg_results_std.append(std)\n",
    "    print(reg)\n",
    "    print(\"\")\n",
    "    #print(result_cnn[app]['app_results'])"
   ]
  },
  {
   "cell_type": "code",
   "execution_count": 6,
   "metadata": {},
   "outputs": [
    {
     "data": {
      "text/plain": [
       "{'pred_power': array([[[721.15063],\n",
       "         [734.2937 ],\n",
       "         [732.70996],\n",
       "         [737.41223],\n",
       "         [731.07623]],\n",
       " \n",
       "        [[721.1014 ],\n",
       "         [734.2878 ],\n",
       "         [732.6904 ],\n",
       "         [737.3623 ],\n",
       "         [731.0578 ]],\n",
       " \n",
       "        [[721.115  ],\n",
       "         [734.27673],\n",
       "         [732.69763],\n",
       "         [737.37714],\n",
       "         [731.0502 ]],\n",
       " \n",
       "        ...,\n",
       " \n",
       "        [[720.59314],\n",
       "         [732.39325],\n",
       "         [731.17694],\n",
       "         [736.92267],\n",
       "         [730.4763 ]],\n",
       " \n",
       "        [[720.59314],\n",
       "         [732.39325],\n",
       "         [731.17694],\n",
       "         [736.92267],\n",
       "         [730.4763 ]],\n",
       " \n",
       "        [[720.59314],\n",
       "         [732.39325],\n",
       "         [731.17694],\n",
       "         [736.92267],\n",
       "         [730.4763 ]]], dtype=float32),\n",
       " 'pred_state': array([[0],\n",
       "        [0],\n",
       "        [0],\n",
       "        ...,\n",
       "        [0],\n",
       "        [0],\n",
       "        [0]], dtype=int32),\n",
       " 'power': array([[729.47156],\n",
       "        [729.47156],\n",
       "        [729.47156],\n",
       "        ...,\n",
       "        [729.47156],\n",
       "        [729.47156],\n",
       "        [729.47156]], dtype=float32),\n",
       " 'state': array([[0],\n",
       "        [0],\n",
       "        [0],\n",
       "        ...,\n",
       "        [0],\n",
       "        [0],\n",
       "        [0]], dtype=int32),\n",
       " 'app_results':        microwave\n",
       " EAC     0.997684\n",
       " NDE     0.000095\n",
       " MAE     3.379422\n",
       " exbF1        NaN\n",
       " HA      1.000000,\n",
       " 'avg_results':          ukdale\n",
       " EAC    0.997684\n",
       " NDE    0.000095\n",
       " MAE    3.379422\n",
       " exbF1       NaN\n",
       " maF1        NaN\n",
       " miF1        NaN\n",
       " HA     1.000000}"
      ]
     },
     "execution_count": 6,
     "metadata": {},
     "output_type": "execute_result"
    }
   ],
   "source": [
    "result_cnn['microwave']"
   ]
  },
  {
   "cell_type": "code",
   "execution_count": 133,
   "metadata": {},
   "outputs": [
    {
     "data": {
      "text/plain": [
       "EAC     0.838\n",
       "MAE    11.174\n",
       "NDE     0.195\n",
       "dtype: float64"
      ]
     },
     "execution_count": 133,
     "metadata": {},
     "output_type": "execute_result"
    }
   ],
   "source": [
    "pd.concat(all_reg_results_mean, axis=1).mean(1).round(3)"
   ]
  },
  {
   "cell_type": "code",
   "execution_count": 134,
   "metadata": {},
   "outputs": [
    {
     "data": {
      "text/plain": [
       "EAC    0.004\n",
       "MAE    0.186\n",
       "NDE    0.009\n",
       "dtype: float64"
      ]
     },
     "execution_count": 134,
     "metadata": {},
     "output_type": "execute_result"
    }
   ],
   "source": []
  },
  {
   "cell_type": "code",
   "execution_count": 166,
   "metadata": {},
   "outputs": [
    {
     "data": {
      "text/html": [
       "<div>\n",
       "<style scoped>\n",
       "    .dataframe tbody tr th:only-of-type {\n",
       "        vertical-align: middle;\n",
       "    }\n",
       "\n",
       "    .dataframe tbody tr th {\n",
       "        vertical-align: top;\n",
       "    }\n",
       "\n",
       "    .dataframe thead th {\n",
       "        text-align: right;\n",
       "    }\n",
       "</style>\n",
       "<table border=\"1\" class=\"dataframe\">\n",
       "  <thead>\n",
       "    <tr style=\"text-align: right;\">\n",
       "      <th></th>\n",
       "      <th>0</th>\n",
       "    </tr>\n",
       "  </thead>\n",
       "  <tbody>\n",
       "    <tr>\n",
       "      <th>subACC</th>\n",
       "      <td>0.9609</td>\n",
       "    </tr>\n",
       "    <tr>\n",
       "      <th>appF1</th>\n",
       "      <td>[0.956091, 0.9621313, 0.90940106, 0.9625163, 0...</td>\n",
       "    </tr>\n",
       "    <tr>\n",
       "      <th>HA</th>\n",
       "      <td>0.991</td>\n",
       "    </tr>\n",
       "    <tr>\n",
       "      <th>ebF1</th>\n",
       "      <td>0.9412</td>\n",
       "    </tr>\n",
       "    <tr>\n",
       "      <th>miF1</th>\n",
       "      <td>0.9581</td>\n",
       "    </tr>\n",
       "    <tr>\n",
       "      <th>maF1</th>\n",
       "      <td>0.9412</td>\n",
       "    </tr>\n",
       "  </tbody>\n",
       "</table>\n",
       "</div>"
      ],
      "text/plain": [
       "                                                        0\n",
       "subACC                                             0.9609\n",
       "appF1   [0.956091, 0.9621313, 0.90940106, 0.9625163, 0...\n",
       "HA                                                  0.991\n",
       "ebF1                                               0.9412\n",
       "miF1                                               0.9581\n",
       "maF1                                               0.9412"
      ]
     },
     "execution_count": 166,
     "metadata": {},
     "output_type": "execute_result"
    }
   ],
   "source": [
    "result_unet['results']"
   ]
  },
  {
   "cell_type": "markdown",
   "metadata": {},
   "source": [
    "## CNN results"
   ]
  },
  {
   "cell_type": "code",
   "execution_count": 141,
   "metadata": {},
   "outputs": [
    {
     "name": "stdout",
     "output_type": "stream",
     "text": [
      "APP kettle\n",
      "       mean    std\n",
      "EAC   0.589  0.003\n",
      "MAE  20.390  0.169\n",
      "NDE   0.674  0.010\n",
      "\n",
      "APP fridge\n",
      "       mean    std\n",
      "EAC   0.923  0.000\n",
      "MAE  18.583  0.006\n",
      "NDE   0.073  0.000\n",
      "\n",
      "APP dishwasher\n",
      "      mean    std\n",
      "EAC  0.875  0.000\n",
      "MAE  9.884  0.012\n",
      "NDE  0.126  0.000\n",
      "\n",
      "APP washingmachine\n",
      "       mean    std\n",
      "EAC   0.875  0.000\n",
      "MAE  15.758  0.009\n",
      "NDE   0.111  0.000\n",
      "\n",
      "APP microwave\n",
      "      mean    std\n",
      "EAC  0.630  0.002\n",
      "MAE  9.690  0.055\n",
      "NDE  0.656  0.007\n",
      "\n",
      "\n",
      "       kettle  fridge  dishwasher  washingmachine  microwave\n",
      "ExbF1   0.944   0.964       0.913           0.954      0.907\n",
      "                                                        0\n",
      "subACC                                             0.9626\n",
      "appF1   [0.94368756, 0.96439606, 0.91325504, 0.9540875...\n",
      "HA                                                 0.9912\n",
      "ebF1                                               0.9365\n",
      "miF1                                               0.9587\n",
      "maF1                                               0.9365\n"
     ]
    }
   ],
   "source": [
    "pred_power=result_cnn['pred_power']\n",
    "pred_state=result_cnn['pred_state']\n",
    "power=result_cnn['power']\n",
    "state=result_cnn['state']\n",
    "all_reg_results_mean = []\n",
    "all_reg_results_std = []\n",
    "regress = {}\n",
    "for idx, app in enumerate(list(appliance_data.keys())):\n",
    "    regress_results = []\n",
    "    for  q in range(5):\n",
    "        result = compute_regress_metrics(power[:,idx]*state[:,idx], pred_power[:,q,idx]*pred_state[:,idx])\n",
    "        result = pd.DataFrame.from_dict(result, orient=\"index\")\n",
    "        regress_results.append(result)\n",
    "    regress_results = pd.concat(regress_results, axis=1)\n",
    "    #regress_results.columns = list(appliance_data.keys())\n",
    "    #regress[app]=regress_results\n",
    "    print(\"APP\", app)\n",
    "    mean = regress_results.mean(1).round(3)\n",
    "    std  = regress_results.std(1).round(3)\n",
    "    reg=pd.concat([mean, std], axis=1)\n",
    "    reg.columns =[\"mean\", 'std']\n",
    "    all_reg_results_mean.append( mean)\n",
    "    all_reg_results_std.append(std)\n",
    "    print(reg)\n",
    "    print(\"\")\n",
    "ebf1 = {\"ExbF1\":example_f1_score(state, pred_state, axis=0, per_sample=True).tolist()}\n",
    "ebf1 =pd.DataFrame.from_dict(ebf1, orient=\"index\")\n",
    "ebf1.columns = list(appliance_data.keys())\n",
    "print(\"\")\n",
    "print(ebf1.round(3))\n",
    "print(pd.DataFrame.from_dict(compute_metrics(state, pred_state), orient=\"index\"))"
   ]
  },
  {
   "cell_type": "code",
   "execution_count": 136,
   "metadata": {},
   "outputs": [
    {
     "data": {
      "text/plain": [
       "EAC     0.778\n",
       "MAE    14.861\n",
       "NDE     0.328\n",
       "dtype: float64"
      ]
     },
     "execution_count": 136,
     "metadata": {},
     "output_type": "execute_result"
    }
   ],
   "source": [
    "pd.concat(all_reg_results_mean, axis=1).mean(1).round(3)"
   ]
  },
  {
   "cell_type": "code",
   "execution_count": 137,
   "metadata": {},
   "outputs": [
    {
     "data": {
      "text/plain": [
       "EAC    0.001\n",
       "MAE    0.050\n",
       "NDE    0.003\n",
       "dtype: float64"
      ]
     },
     "execution_count": 137,
     "metadata": {},
     "output_type": "execute_result"
    }
   ],
   "source": [
    "pd.concat(all_reg_results_std, axis=1).mean(1).round(3)"
   ]
  },
  {
   "cell_type": "markdown",
   "metadata": {},
   "source": [
    "## Visual"
   ]
  },
  {
   "cell_type": "code",
   "execution_count": 188,
   "metadata": {},
   "outputs": [],
   "source": [
    "y_p_cnn = result_cnn['pred_power'][41160:41172+5000]\n",
    "y_t_cnn = result_cnn['power'][41160:41172+5000]\n",
    "z_t_cnn = result_cnn['state'][41160:41172+5000]\n",
    "z_p_cnn = result_cnn['pred_state'][41160:41172+5000]"
   ]
  },
  {
   "cell_type": "code",
   "execution_count": 189,
   "metadata": {},
   "outputs": [],
   "source": [
    "appliance_labels={'kettle':\"KT\", 'fridge':\"FRZ\", 'dishwasher':\"DW\", 'washingmachine':\"WM\", 'microwave':\"MW\"}\n",
    "fig = plt.figure(figsize=(6, 4))\n",
    "for i, app in enumerate(list(appliance_data.keys())):\n",
    "    #plt.plot(y_t_cnn[:,i], label=appliance_labels[app], color=colors[i])\n",
    "    plt.plot(y_p_cnn[:,2,i]*z_p_cnn[:,i], label=appliance_labels[app], color=colors[i], linestyle=\"--\")\n",
    "plt.ylabel(\"Power $W$\")\n",
    "plt.legend()\n",
    "savefig(\"cnn_prediction\", format=\".pdf\")"
   ]
  },
  {
   "cell_type": "code",
   "execution_count": 187,
   "metadata": {},
   "outputs": [],
   "source": [
    "appliance_labels={'kettle':\"KT\", 'fridge':\"FRZ\", 'dishwasher':\"DW\", 'washingmachine':\"WM\", 'microwave':\"MW\"}\n",
    "fig = plt.figure(figsize=(6, 4))\n",
    "for i, app in enumerate(list(appliance_data.keys())):\n",
    "    plt.plot(y_t_cnn[:,i]*z_t_cnn[:,i], label=appliance_labels[app], color=colors[i])\n",
    "    #plt.plot(y_p_cnn[:,2,i]t label=appliance_labels[app], color=colors[i], linestyle=\"--\")\n",
    "plt.ylabel(\"Power $W$\")\n",
    "plt.legend()\n",
    "savefig(\"ground_truth\", format=\".pdf\")"
   ]
  },
  {
   "cell_type": "code",
   "execution_count": null,
   "metadata": {},
   "outputs": [],
   "source": []
  }
 ],
 "metadata": {
  "kernelspec": {
   "display_name": "Python 3",
   "language": "python",
   "name": "python3"
  },
  "language_info": {
   "codemirror_mode": {
    "name": "ipython",
    "version": 3
   },
   "file_extension": ".py",
   "mimetype": "text/x-python",
   "name": "python",
   "nbconvert_exporter": "python",
   "pygments_lexer": "ipython3",
   "version": "3.8.3"
  },
  "latex_envs": {
   "LaTeX_envs_menu_present": true,
   "autoclose": false,
   "autocomplete": true,
   "bibliofile": "biblio.bib",
   "cite_by": "apalike",
   "current_citInitial": 1,
   "eqLabelWithNumbers": true,
   "eqNumInitial": 1,
   "hotkeys": {
    "equation": "Ctrl-E",
    "itemize": "Ctrl-I"
   },
   "labels_anchors": false,
   "latex_user_defs": false,
   "report_style_numbering": false,
   "user_envs_cfg": false
  }
 },
 "nbformat": 4,
 "nbformat_minor": 4
}
