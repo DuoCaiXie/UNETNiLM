{
 "cells": [
  {
   "cell_type": "code",
   "execution_count": 10,
   "metadata": {},
   "outputs": [],
   "source": [
    "import pandas as pd\n",
    "import sys\n",
    "sys.path.append('../src/')\n",
    "%matplotlib inline\n",
    "import numpy as np\n",
    "from net.modules import *\n",
    "from data.load_data import *\n",
    "from data.data_loader import load_data , spilit_refit_test, Seq2PointDataset,Dataset\n",
    "import torch"
   ]
  },
  {
   "cell_type": "code",
   "execution_count": 23,
   "metadata": {},
   "outputs": [
    {
     "output_type": "execute_result",
     "data": {
      "text/plain": "CNN1DModel(\n  (enc_net): Encoder(\n    (conv_stack): Sequential(\n      (0): Conv1D(\n        (conv): Conv1d(1, 8, kernel_size=(3,), stride=(2,), padding=(1,))\n        (net): Sequential(\n          (0): Conv1d(1, 8, kernel_size=(3,), stride=(2,), padding=(1,))\n          (1): BatchNorm1d(8, eps=1e-05, momentum=0.1, affine=True, track_running_stats=True)\n          (2): PReLU(num_parameters=1)\n        )\n      )\n      (1): Conv1D(\n        (conv): Conv1d(8, 16, kernel_size=(3,), stride=(2,), padding=(1,))\n        (net): Sequential(\n          (0): Conv1d(8, 16, kernel_size=(3,), stride=(2,), padding=(1,))\n          (1): BatchNorm1d(16, eps=1e-05, momentum=0.1, affine=True, track_running_stats=True)\n          (2): PReLU(num_parameters=1)\n        )\n      )\n      (2): Conv1D(\n        (conv): Conv1d(16, 32, kernel_size=(3,), stride=(2,), padding=(1,))\n        (net): Sequential(\n          (0): Conv1d(16, 32, kernel_size=(3,), stride=(2,), padding=(1,))\n          (1): BatchNorm1d(32, eps=1e-05, momentum=0.1, affine=True, track_running_stats=True)\n          (2): PReLU(num_parameters=1)\n        )\n      )\n      (3): Conv1D(\n        (conv): Conv1d(32, 64, kernel_size=(3,), stride=(2,), padding=(1,))\n        (net): Sequential(\n          (0): Conv1d(32, 64, kernel_size=(3,), stride=(2,), padding=(1,))\n          (1): BatchNorm1d(64, eps=1e-05, momentum=0.1, affine=True, track_running_stats=True)\n          (2): PReLU(num_parameters=1)\n        )\n      )\n      (4): Conv1D(\n        (conv): Conv1d(64, 128, kernel_size=(3,), stride=(2,), padding=(1,))\n        (net): Conv1d(64, 128, kernel_size=(3,), stride=(2,), padding=(1,))\n      )\n    )\n  )\n  (mlp_layer): MLPLayer(\n    (mlp_network): Sequential(\n      (0): Linear(in_features=2048, out_features=1024, bias=True)\n      (1): PReLU(num_parameters=1)\n    )\n  )\n  (dropout): Dropout(p=0.01, inplace=False)\n  (fc_out_state): Linear(in_features=1024, out_features=10, bias=True)\n  (fc_out_power): Linear(in_features=1024, out_features=15, bias=True)\n)"
     },
     "metadata": {},
     "execution_count": 23
    }
   ],
   "source": [
    "model = CNN1DModel(in_size=1, \n",
    "                               output_size=5,\n",
    "                               d_model=128,\n",
    "                               seq_len=99,  \n",
    "                               n_layers=5, \n",
    "                               n_quantiles=3,\n",
    "                               pool_filter=16)\n",
    "model"
   ]
  },
  {
   "cell_type": "code",
   "execution_count": 12,
   "metadata": {
    "tags": []
   },
   "outputs": [
    {
     "output_type": "stream",
     "name": "stdout",
     "text": "Load training data\n"
    }
   ],
   "source": [
    "x, y, z= load_data(\"../data/\", data_type=\"training\", data=\"ukdale\", denoise=True)"
   ]
  },
  {
   "cell_type": "code",
   "execution_count": 13,
   "metadata": {},
   "outputs": [],
   "source": [
    "data = Dataset(x, y, z)"
   ]
  },
  {
   "cell_type": "code",
   "execution_count": 14,
   "metadata": {},
   "outputs": [],
   "source": [
    "p,t, s=next(iter(data))"
   ]
  },
  {
   "cell_type": "code",
   "execution_count": 15,
   "metadata": {},
   "outputs": [
    {
     "output_type": "execute_result",
     "data": {
      "text/plain": "torch.Size([100, 1])"
     },
     "metadata": {},
     "execution_count": 15
    }
   ],
   "source": [
    "p.shape"
   ]
  },
  {
   "cell_type": "code",
   "execution_count": 16,
   "metadata": {},
   "outputs": [],
   "source": [
    "load=torch.utils.data.DataLoader(data,batch_size=16,\n",
    "                                            shuffle=False,pin_memory=True,\n",
    "                                            num_workers=4) "
   ]
  },
  {
   "cell_type": "code",
   "execution_count": 17,
   "metadata": {},
   "outputs": [],
   "source": [
    "p, t, s = next(iter(load))"
   ]
  },
  {
   "cell_type": "code",
   "execution_count": 21,
   "metadata": {},
   "outputs": [
    {
     "output_type": "execute_result",
     "data": {
      "text/plain": "torch.Size([16, 5])"
     },
     "metadata": {},
     "execution_count": 21
    }
   ],
   "source": [
    "t.shape"
   ]
  },
  {
   "cell_type": "code",
   "execution_count": 24,
   "metadata": {},
   "outputs": [],
   "source": [
    "out, c=model(p)"
   ]
  },
  {
   "cell_type": "code",
   "execution_count": 25,
   "metadata": {},
   "outputs": [
    {
     "output_type": "execute_result",
     "data": {
      "text/plain": "torch.Size([16, 3, 5])"
     },
     "metadata": {},
     "execution_count": 25
    }
   ],
   "source": [
    "c.shape"
   ]
  },
  {
   "cell_type": "code",
   "execution_count": 20,
   "metadata": {},
   "outputs": [],
   "source": [
    "import numpy as np\n",
    "from sklearn.metrics import f1_score, mean_absolute_error, mean_squared_error"
   ]
  },
  {
   "cell_type": "code",
   "execution_count": 43,
   "metadata": {},
   "outputs": [
    {
     "output_type": "execute_result",
     "data": {
      "text/plain": "array([72.73291   ,  0.99868774, 56.405422  , 21.221878  , 73.38761   ],\n      dtype=float32)"
     },
     "metadata": {},
     "execution_count": 43
    }
   ],
   "source": [
    "  \n",
    "y_p, y_t = c[:,0,:].data.numpy(), t.data.numpy()\n",
    "\n",
    "get_nde(y_t, y_p)"
   ]
  },
  {
   "cell_type": "code",
   "execution_count": null,
   "metadata": {},
   "outputs": [],
   "source": []
  }
 ],
 "metadata": {
  "kernelspec": {
   "display_name": "Python 3",
   "language": "python",
   "name": "python3"
  },
  "language_info": {
   "codemirror_mode": {
    "name": "ipython",
    "version": 3
   },
   "file_extension": ".py",
   "mimetype": "text/x-python",
   "name": "python",
   "nbconvert_exporter": "python",
   "pygments_lexer": "ipython3",
   "version": "3.8.3-final"
  },
  "latex_envs": {
   "LaTeX_envs_menu_present": true,
   "autoclose": false,
   "autocomplete": true,
   "bibliofile": "biblio.bib",
   "cite_by": "apalike",
   "current_citInitial": 1,
   "eqLabelWithNumbers": true,
   "eqNumInitial": 1,
   "hotkeys": {
    "equation": "Ctrl-E",
    "itemize": "Ctrl-I"
   },
   "labels_anchors": false,
   "latex_user_defs": false,
   "report_style_numbering": false,
   "user_envs_cfg": false
  }
 },
 "nbformat": 4,
 "nbformat_minor": 4
}