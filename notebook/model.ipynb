{
 "cells": [
  {
   "cell_type": "code",
   "execution_count": 1,
   "metadata": {},
   "outputs": [],
   "source": [
    "import pandas as pd\n",
    "import sys\n",
    "sys.path.append('../src/')\n",
    "%matplotlib inline\n",
    "import numpy as np\n",
    "from net.modules import *"
   ]
  },
  {
   "cell_type": "code",
   "execution_count": 9,
   "metadata": {},
   "outputs": [],
   "source": [
    "\n"
   ]
  },
  {
   "cell_type": "code",
   "execution_count": 10,
   "metadata": {},
   "outputs": [
    {
     "data": {
      "text/plain": [
       "torch.Size([4, 7, 50])"
      ]
     },
     "execution_count": 10,
     "metadata": {},
     "output_type": "execute_result"
    }
   ],
   "source": [
    "x = torch.randn(4, 1, 50)\n",
    "PositionEmbeddingLearned(seq_length=99)(x).shape"
   ]
  },
  {
   "cell_type": "code",
   "execution_count": 2,
   "metadata": {},
   "outputs": [
    {
     "data": {
      "text/plain": [
       "(tensor([[[ 0.2201, -0.5306,  2.4595,  0.0392,  1.0687],\n",
       "          [ 0.9478, -1.2906,  0.8925, -0.2342, -0.2658]],\n",
       " \n",
       "         [[-1.0736, -0.3550, -1.7879,  0.1333, -1.2967],\n",
       "          [-0.8370, -0.4997,  0.6676, -1.0357,  0.9406]],\n",
       " \n",
       "         [[-1.4458, -0.1056,  1.7432,  0.5507, -1.1177],\n",
       "          [-0.9318,  1.2322, -1.7353,  3.2183,  0.9460]],\n",
       " \n",
       "         [[ 2.5764, -0.0520, -1.5947, -0.9959,  1.2469],\n",
       "          [ 0.6798,  2.1191,  0.9131, -0.3816, -1.5303]]],\n",
       "        grad_fn=<ViewBackward>),\n",
       " tensor([[-1.1515, -2.9831, -1.8890, -2.2766,  2.3410],\n",
       "         [ 0.5250,  2.6877,  1.1568,  0.0789, -1.9059],\n",
       "         [ 1.6905,  0.9528,  0.3199,  3.7726,  0.1768],\n",
       "         [-1.0119, -0.0355,  1.9468, -1.6989, -0.8738]],\n",
       "        grad_fn=<AddmmBackward>))"
      ]
     },
     "execution_count": 2,
     "metadata": {},
     "output_type": "execute_result"
    }
   ],
   "source": [
    "mlp = UNETNiLM(seq_size=50)\n",
    "x = torch.randn(4, 50, 1)\n",
    "mlp(x)"
   ]
  },
  {
   "cell_type": "code",
   "execution_count": null,
   "metadata": {},
   "outputs": [],
   "source": [
    "model = UNETNiLM(features_start=16)\n",
    "x = torch.randn(4, 100, 1)\n",
    "model(x)"
   ]
  },
  {
   "cell_type": "code",
   "execution_count": null,
   "metadata": {},
   "outputs": [],
   "source": [
    "model = UNETNiLM()\n",
    "model"
   ]
  },
  {
   "cell_type": "code",
   "execution_count": null,
   "metadata": {},
   "outputs": [],
   "source": [
    "x = torch.randn(4, 100, 1)"
   ]
  },
  {
   "cell_type": "code",
   "execution_count": null,
   "metadata": {},
   "outputs": [],
   "source": [
    "model(x)"
   ]
  },
  {
   "cell_type": "code",
   "execution_count": null,
   "metadata": {},
   "outputs": [],
   "source": [
    "s, p=model(x)"
   ]
  },
  {
   "cell_type": "code",
   "execution_count": null,
   "metadata": {},
   "outputs": [],
   "source": [
    "p.shape"
   ]
  },
  {
   "cell_type": "code",
   "execution_count": null,
   "metadata": {},
   "outputs": [],
   "source": []
  }
 ],
 "metadata": {
  "kernelspec": {
   "display_name": "Python 3",
   "language": "python",
   "name": "python3"
  },
  "language_info": {
   "codemirror_mode": {
    "name": "ipython",
    "version": 3
   },
   "file_extension": ".py",
   "mimetype": "text/x-python",
   "name": "python",
   "nbconvert_exporter": "python",
   "pygments_lexer": "ipython3",
   "version": "3.7.7"
  },
  "latex_envs": {
   "LaTeX_envs_menu_present": true,
   "autoclose": false,
   "autocomplete": true,
   "bibliofile": "biblio.bib",
   "cite_by": "apalike",
   "current_citInitial": 1,
   "eqLabelWithNumbers": true,
   "eqNumInitial": 1,
   "hotkeys": {
    "equation": "Ctrl-E",
    "itemize": "Ctrl-I"
   },
   "labels_anchors": false,
   "latex_user_defs": false,
   "report_style_numbering": false,
   "user_envs_cfg": false
  }
 },
 "nbformat": 4,
 "nbformat_minor": 4
}
