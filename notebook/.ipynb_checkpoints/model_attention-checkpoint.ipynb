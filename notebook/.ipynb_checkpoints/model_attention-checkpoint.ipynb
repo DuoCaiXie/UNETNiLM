{
 "cells": [
  {
   "cell_type": "code",
   "execution_count": 2,
   "metadata": {},
   "outputs": [],
   "source": [
    "import pandas as pd\n",
    "import sys\n",
    "sys.path.append('../src/')\n",
    "%matplotlib inline\n",
    "import numpy as np\n",
    "from net.modules import *\n",
    "from data.load_data import *\n",
    "from data.data_loader import load_data , spilit_refit_test, Seq2PointDataset\n",
    "import torch"
   ]
  },
  {
   "cell_type": "code",
   "execution_count": 3,
   "metadata": {},
   "outputs": [
    {
     "data": {
      "text/plain": [
       "CNN1DModel(\n",
       "  (enc_net): Encoder(\n",
       "    (conv_stack): Sequential(\n",
       "      (0): Conv1D(\n",
       "        (conv): Conv1d(1, 8, kernel_size=(3,), stride=(2,), padding=(1,))\n",
       "        (net): Sequential(\n",
       "          (0): Conv1d(1, 8, kernel_size=(3,), stride=(2,), padding=(1,))\n",
       "          (1): BatchNorm1d(8, eps=1e-05, momentum=0.1, affine=True, track_running_stats=True)\n",
       "          (2): PReLU(num_parameters=1)\n",
       "        )\n",
       "      )\n",
       "      (1): Conv1D(\n",
       "        (conv): Conv1d(8, 16, kernel_size=(3,), stride=(2,), padding=(1,))\n",
       "        (net): Sequential(\n",
       "          (0): Conv1d(8, 16, kernel_size=(3,), stride=(2,), padding=(1,))\n",
       "          (1): BatchNorm1d(16, eps=1e-05, momentum=0.1, affine=True, track_running_stats=True)\n",
       "          (2): PReLU(num_parameters=1)\n",
       "        )\n",
       "      )\n",
       "      (2): Conv1D(\n",
       "        (conv): Conv1d(16, 32, kernel_size=(3,), stride=(2,), padding=(1,))\n",
       "        (net): Sequential(\n",
       "          (0): Conv1d(16, 32, kernel_size=(3,), stride=(2,), padding=(1,))\n",
       "          (1): BatchNorm1d(32, eps=1e-05, momentum=0.1, affine=True, track_running_stats=True)\n",
       "          (2): PReLU(num_parameters=1)\n",
       "        )\n",
       "      )\n",
       "      (3): Conv1D(\n",
       "        (conv): Conv1d(32, 64, kernel_size=(3,), stride=(2,), padding=(1,))\n",
       "        (net): Sequential(\n",
       "          (0): Conv1d(32, 64, kernel_size=(3,), stride=(2,), padding=(1,))\n",
       "          (1): BatchNorm1d(64, eps=1e-05, momentum=0.1, affine=True, track_running_stats=True)\n",
       "          (2): PReLU(num_parameters=1)\n",
       "        )\n",
       "      )\n",
       "      (4): Conv1D(\n",
       "        (conv): Conv1d(64, 128, kernel_size=(3,), stride=(2,), padding=(1,))\n",
       "        (net): Conv1d(64, 128, kernel_size=(3,), stride=(2,), padding=(1,))\n",
       "      )\n",
       "    )\n",
       "  )\n",
       "  (mlp_layer): MLPLayer(\n",
       "    (mlp_network): Sequential(\n",
       "      (0): Linear(in_features=2048, out_features=1024, bias=True)\n",
       "      (1): PReLU(num_parameters=1)\n",
       "    )\n",
       "  )\n",
       "  (dropout): Dropout(p=0.01, inplace=False)\n",
       "  (fc_out_state): Linear(in_features=1024, out_features=2, bias=True)\n",
       "  (fc_out_power): Linear(in_features=1024, out_features=3, bias=True)\n",
       ")"
      ]
     },
     "execution_count": 3,
     "metadata": {},
     "output_type": "execute_result"
    }
   ],
   "source": [
    "model = CNN1DModel(in_size=1, \n",
    "                               output_size=1,\n",
    "                               d_model=128,\n",
    "                               seq_len=99,  \n",
    "                               n_layers=5, \n",
    "                               n_quantiles=3,\n",
    "                               pool_filter=16)\n",
    "model"
   ]
  },
  {
   "cell_type": "code",
   "execution_count": 4,
   "metadata": {},
   "outputs": [
    {
     "name": "stdout",
     "output_type": "stream",
     "text": [
      "Load training data\n"
     ]
    }
   ],
   "source": [
    "x, y, z= load_data(\"../data/\", data_type=\"training\", data=\"ukdale\", denoise=True)"
   ]
  },
  {
   "cell_type": "code",
   "execution_count": null,
   "metadata": {},
   "outputs": [],
   "source": []
  },
  {
   "cell_type": "code",
   "execution_count": 5,
   "metadata": {},
   "outputs": [],
   "source": [
    "data = Seq2PointDataset(x, y[:,0], z[:,0])"
   ]
  },
  {
   "cell_type": "code",
   "execution_count": 6,
   "metadata": {},
   "outputs": [],
   "source": [
    "p,t, s=next(iter(data))"
   ]
  },
  {
   "cell_type": "code",
   "execution_count": 7,
   "metadata": {},
   "outputs": [
    {
     "data": {
      "text/plain": [
       "torch.Size([99, 1])"
      ]
     },
     "execution_count": 7,
     "metadata": {},
     "output_type": "execute_result"
    }
   ],
   "source": [
    "p.shape"
   ]
  },
  {
   "cell_type": "code",
   "execution_count": 8,
   "metadata": {},
   "outputs": [],
   "source": [
    "load=torch.utils.data.DataLoader(data,batch_size=16,\n",
    "                                            shuffle=False,pin_memory=True,\n",
    "                                            num_workers=4) "
   ]
  },
  {
   "cell_type": "code",
   "execution_count": 9,
   "metadata": {},
   "outputs": [],
   "source": [
    "p,t,s=next(iter(load))"
   ]
  },
  {
   "cell_type": "code",
   "execution_count": 10,
   "metadata": {},
   "outputs": [
    {
     "data": {
      "text/plain": [
       "torch.Size([16])"
      ]
     },
     "execution_count": 10,
     "metadata": {},
     "output_type": "execute_result"
    }
   ],
   "source": [
    "s.shape"
   ]
  },
  {
   "cell_type": "code",
   "execution_count": 14,
   "metadata": {},
   "outputs": [],
   "source": [
    "out, c=model(p)"
   ]
  },
  {
   "cell_type": "code",
   "execution_count": 16,
   "metadata": {},
   "outputs": [
    {
     "data": {
      "text/plain": [
       "torch.Size([16, 3, 1])"
      ]
     },
     "execution_count": 16,
     "metadata": {},
     "output_type": "execute_result"
    }
   ],
   "source": [
    "c.shape"
   ]
  },
  {
   "cell_type": "code",
   "execution_count": null,
   "metadata": {},
   "outputs": [],
   "source": []
  }
 ],
 "metadata": {
  "kernelspec": {
   "display_name": "Python 3",
   "language": "python",
   "name": "python3"
  },
  "language_info": {
   "codemirror_mode": {
    "name": "ipython",
    "version": 3
   },
   "file_extension": ".py",
   "mimetype": "text/x-python",
   "name": "python",
   "nbconvert_exporter": "python",
   "pygments_lexer": "ipython3",
   "version": "3.8.3"
  },
  "latex_envs": {
   "LaTeX_envs_menu_present": true,
   "autoclose": false,
   "autocomplete": true,
   "bibliofile": "biblio.bib",
   "cite_by": "apalike",
   "current_citInitial": 1,
   "eqLabelWithNumbers": true,
   "eqNumInitial": 1,
   "hotkeys": {
    "equation": "Ctrl-E",
    "itemize": "Ctrl-I"
   },
   "labels_anchors": false,
   "latex_user_defs": false,
   "report_style_numbering": false,
   "user_envs_cfg": false
  }
 },
 "nbformat": 4,
 "nbformat_minor": 4
}
